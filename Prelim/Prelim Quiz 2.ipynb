{
  "nbformat": 4,
  "nbformat_minor": 0,
  "metadata": {
    "colab": {
      "provenance": []
    },
    "kernelspec": {
      "name": "python3",
      "display_name": "Python 3"
    },
    "language_info": {
      "name": "python"
    }
  },
  "cells": [
    {
      "cell_type": "markdown",
      "source": [
        "**Gwyneth D. Esperat**\n",
        "\n",
        "\n",
        "**February 28, 2024**\n",
        "\n",
        "\n",
        "**CPE22S3**"
      ],
      "metadata": {
        "id": "EcjWlszUFn5N"
      }
    },
    {
      "cell_type": "markdown",
      "source": [
        "# Making Change\n",
        "You are given n types of coin denominations of values v(1) < v(2) < ... < v(n) (all integers). Assume v(1) = 1, so you can always make change for any amount of money C. Give an algorithm which makes change for an amount of money C with as few coins as possible. [on problem set 4]"
      ],
      "metadata": {
        "id": "6dFe7CDIBe5N"
      }
    },
    {
      "cell_type": "code",
      "execution_count": null,
      "metadata": {
        "id": "4zpC-fBOBA4g"
      },
      "outputs": [],
      "source": [
        "def money_change()\n",
        "self __init__vertices(1);\n",
        "self __init__vertices(2);\n",
        "if\n",
        "int (n < v);\n",
        "else\n",
        "int (v < n);\n",
        "\n",
        "v = vertices(1);\n",
        "v = vertices(2);\n",
        "v = vertices(n);\n",
        "\n",
        "\n",
        "# Let's assume that v(1)=1\n",
        "int = (n, 10)\n",
        "\n",
        "# Bottom Up Approach\n",
        "def money_change\n",
        "self __init__ amount;\n",
        "self __init__ change;\n",
        "\n",
        "\n",
        "print(\"\")\n",
        "return (money c)"
      ]
    }
  ]
}