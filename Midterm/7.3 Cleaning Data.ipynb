{
  "nbformat": 4,
  "nbformat_minor": 0,
  "metadata": {
    "colab": {
      "provenance": []
    },
    "kernelspec": {
      "name": "python3",
      "display_name": "Python 3"
    },
    "language_info": {
      "name": "python"
    }
  },
  "cells": [
    {
      "cell_type": "code",
      "source": [
        "import pandas as pd\n",
        "\n",
        "df = pd.read_csv('data/nyc_temperatures.csv')\n",
        "df.head()"
      ],
      "metadata": {
        "id": "i9tNWKDL6mUl"
      },
      "execution_count": null,
      "outputs": []
    },
    {
      "cell_type": "code",
      "source": [
        "df.columns"
      ],
      "metadata": {
        "id": "0W32neeA63az"
      },
      "execution_count": null,
      "outputs": []
    },
    {
      "cell_type": "code",
      "source": [
        "df.rename(\n",
        "    columns={\n",
        "        'value': 'temp_C',\n",
        "        'attributes': 'flags'\n",
        "    }, inplace=True\n",
        ")"
      ],
      "metadata": {
        "id": "nytFenSJ65-2"
      },
      "execution_count": null,
      "outputs": []
    },
    {
      "cell_type": "code",
      "source": [
        "df.columns"
      ],
      "metadata": {
        "id": "Oo1ah3vm6_0W"
      },
      "execution_count": null,
      "outputs": []
    },
    {
      "cell_type": "code",
      "source": [
        "df.rename(str.upper, axis='columns').columns"
      ],
      "metadata": {
        "id": "JM7qRmp-7EOE"
      },
      "execution_count": null,
      "outputs": []
    },
    {
      "cell_type": "code",
      "source": [
        "df.dtypes"
      ],
      "metadata": {
        "id": "RuFH8T0o7KpA"
      },
      "execution_count": null,
      "outputs": []
    },
    {
      "cell_type": "code",
      "source": [
        "df.loc[:,'date'] = pd.to_datetime(df.date)\n",
        "df.dtypes"
      ],
      "metadata": {
        "id": "w3BB5LNw7NOm"
      },
      "execution_count": null,
      "outputs": []
    },
    {
      "cell_type": "code",
      "source": [
        "df.date.describe()"
      ],
      "metadata": {
        "id": "04WjYiCu7RfD"
      },
      "execution_count": null,
      "outputs": []
    },
    {
      "cell_type": "code",
      "source": [
        "df.date.describe()"
      ],
      "metadata": {
        "id": "3WBR3AWA7TO3"
      },
      "execution_count": null,
      "outputs": []
    },
    {
      "cell_type": "code",
      "source": [
        "pd.date_range(start='2018-10-25', periods=2, freq='D').tz_localize('EST')"
      ],
      "metadata": {
        "id": "qcMwf7Za7VJn"
      },
      "execution_count": null,
      "outputs": []
    },
    {
      "cell_type": "code",
      "source": [
        "eastern = pd.read_csv(\n",
        "    'data/nyc_temperatures.csv', index_col='date', parse_dates=True\n",
        ").tz_localize('EST')\n",
        "eastern.head()"
      ],
      "metadata": {
        "id": "_5Yn_YsC7Z__"
      },
      "execution_count": null,
      "outputs": []
    },
    {
      "cell_type": "code",
      "source": [
        "eastern.tz_convert('UTC').head()\n"
      ],
      "metadata": {
        "id": "prV14T5k7fCf"
      },
      "execution_count": null,
      "outputs": []
    },
    {
      "cell_type": "code",
      "source": [
        "eastern.to_period('M').index"
      ],
      "metadata": {
        "id": "NsWLdHdP7fKm"
      },
      "execution_count": null,
      "outputs": []
    },
    {
      "cell_type": "code",
      "source": [
        "eastern.to_period('M').to_timestamp().index"
      ],
      "metadata": {
        "id": "-kKkI7o37fOD"
      },
      "execution_count": null,
      "outputs": []
    },
    {
      "cell_type": "code",
      "source": [
        "df = pd.read_csv('data/nyc_temperatures.csv').rename(\n",
        "  columns={\n",
        "      'value' : 'temp_C',\n",
        "      'attributes' : 'flags'\n",
        "   }\n",
        ")\n",
        "\n",
        "new_df = df.assign(\n",
        "    date=pd.to_datetime(df.date),\n",
        "    temp_F=(df.temp_C * 9/5) + 32\n",
        ")\n",
        "new_df.dtypes"
      ],
      "metadata": {
        "id": "xBEvVleA7fQ_"
      },
      "execution_count": null,
      "outputs": []
    },
    {
      "cell_type": "code",
      "source": [
        "new_df.head()"
      ],
      "metadata": {
        "id": "nN_vXGuS787x"
      },
      "execution_count": null,
      "outputs": []
    },
    {
      "cell_type": "code",
      "source": [
        "df = df.assign(\n",
        "    date=pd.to_datetime(df.date),\n",
        "    temp_C_whole=df.temp_C.astype('int'),\n",
        "    temp_F=(df.temp_C * 9/5) + 32,\n",
        "    temp_F_whole=lambda x: x.temp_F.astype('int')\n",
        ")\n",
        "\n",
        "df.head()"
      ],
      "metadata": {
        "id": "8gX_2P3B79C1"
      },
      "execution_count": null,
      "outputs": []
    },
    {
      "cell_type": "code",
      "source": [
        "df_with_categories = df.assign(\n",
        "    station=df.station.astype('category'),\n",
        "    datatype=df.datatype.astype('category')\n",
        ")\n",
        "df_with_categories.dtypes"
      ],
      "metadata": {
        "id": "jtwBN1tj79Fa"
      },
      "execution_count": null,
      "outputs": []
    },
    {
      "cell_type": "code",
      "source": [
        "pd.Categorical(\n",
        "    ['med', 'med', 'low', 'high'],\n",
        "    categories=['low', 'med', 'high'],\n",
        "    ordered=True\n",
        ")"
      ],
      "metadata": {
        "id": "7PfnCzXT8CbP"
      },
      "execution_count": null,
      "outputs": []
    },
    {
      "cell_type": "code",
      "source": [
        "\n",
        "df.sort_values(by='temp_C', ascending=False).head(10)"
      ],
      "metadata": {
        "id": "OccchxGB8CeD"
      },
      "execution_count": null,
      "outputs": []
    },
    {
      "cell_type": "code",
      "source": [
        "df.sort_values(by=['temp_C', 'date'], ascending=False).head(10)"
      ],
      "metadata": {
        "id": "gP3aBCzY8Ch1"
      },
      "execution_count": null,
      "outputs": []
    },
    {
      "cell_type": "code",
      "source": [
        "df.nlargest(n=5, columns='temp_C')"
      ],
      "metadata": {
        "id": "vqJbfu928LK_"
      },
      "execution_count": null,
      "outputs": []
    },
    {
      "cell_type": "code",
      "source": [
        "df.nsmallest(n=5, columns=['temp_C', 'date'])"
      ],
      "metadata": {
        "id": "faQm_Fc68LSl"
      },
      "execution_count": null,
      "outputs": []
    },
    {
      "cell_type": "code",
      "source": [
        "df.sample(5, random_state=0).index"
      ],
      "metadata": {
        "id": "E5Hfoe2s8QPR"
      },
      "execution_count": null,
      "outputs": []
    },
    {
      "cell_type": "code",
      "source": [
        "df.sample(5, random_state=0).sort_index().index"
      ],
      "metadata": {
        "id": "6aMlQjWg8QSj"
      },
      "execution_count": null,
      "outputs": []
    },
    {
      "cell_type": "code",
      "source": [
        "df.sort_index(axis=1).head()"
      ],
      "metadata": {
        "id": "SXXsa_4W8QW3"
      },
      "execution_count": null,
      "outputs": []
    },
    {
      "cell_type": "code",
      "source": [
        "df.sort_index(axis=1).head().loc[:, 'temp_C':'temp_F_whole']"
      ],
      "metadata": {
        "id": "KpSO__ZM8lfw"
      },
      "execution_count": null,
      "outputs": []
    },
    {
      "cell_type": "code",
      "source": [
        "df.equals(df.sort_values(by='temp_C'))"
      ],
      "metadata": {
        "id": "qwgF9bAu8lrv"
      },
      "execution_count": null,
      "outputs": []
    },
    {
      "cell_type": "code",
      "source": [
        "df.equals(df.sort_values(by='temp_C').sort_index())"
      ],
      "metadata": {
        "id": "vdKe1Rld8luO"
      },
      "execution_count": null,
      "outputs": []
    },
    {
      "cell_type": "code",
      "source": [
        "df[df.datatype == 'TAVG'].head().reset_index()"
      ],
      "metadata": {
        "id": "rMbqrhEX8lwh"
      },
      "execution_count": null,
      "outputs": []
    },
    {
      "cell_type": "code",
      "source": [
        "\n",
        "df.set_index('date', inplace=True)\n",
        "df.head()"
      ],
      "metadata": {
        "id": "YcCca6kZ8w72"
      },
      "execution_count": null,
      "outputs": []
    },
    {
      "cell_type": "code",
      "source": [
        "df['2018-10-11':'2018-10-12']"
      ],
      "metadata": {
        "id": "8kE16RZe8xi8"
      },
      "execution_count": null,
      "outputs": []
    },
    {
      "cell_type": "code",
      "source": [
        "sp = pd.read_csv(\n",
        "    'data/sp500.csv', index_col='date', parse_dates=True\n",
        ").drop(columns=['adj_close'])\n",
        "\n",
        "sp.head(10).assign(\n",
        "    day_of_week=lambda x: x.index.day_name()\n",
        ")"
      ],
      "metadata": {
        "id": "f4brVw1H8xmV"
      },
      "execution_count": null,
      "outputs": []
    },
    {
      "cell_type": "code",
      "source": [
        "bitcoin = pd.read_csv(\n",
        "    'data/bitcoin.csv', index_col='date', parse_dates=True\n",
        ").drop(columns=['market_cap'])\n",
        "\n",
        "portfolio = pd.concat(\n",
        "    [sp, bitcoin], sort=False\n",
        ").groupby(pd.Grouper(freq='D')).sum()\n",
        "\n",
        "portfolio.head(10).assign(\n",
        "    day_of_week=lambda x: x.index.day_name()\n",
        ")"
      ],
      "metadata": {
        "id": "Rxa422Vk8w-e"
      },
      "execution_count": null,
      "outputs": []
    },
    {
      "cell_type": "code",
      "source": [
        "import matplotlib.pyplot as plt # we use this module for plotting"
      ],
      "metadata": {
        "id": "3T7xSSWu8xBO"
      },
      "execution_count": null,
      "outputs": []
    },
    {
      "cell_type": "code",
      "source": [
        "portfolio['2017-Q4':'2018-Q2'].plot(\n",
        "    y='close', figsize=(15, 5), legend=False,\n",
        "    title='Bitcoin + S&P 500 value without accounting for different indices'\n",
        ")\n",
        "plt.ylabel('price ($)')\n",
        "plt.show()"
      ],
      "metadata": {
        "id": "nAgl6tqJ9L-H"
      },
      "execution_count": null,
      "outputs": []
    },
    {
      "cell_type": "code",
      "source": [
        "sp.reindex(bitcoin.index).head(10).assign(\n",
        "    day_of_week=lambda x: x.index.day_name()\n",
        ")"
      ],
      "metadata": {
        "id": "JpgMKohs9MJi"
      },
      "execution_count": null,
      "outputs": []
    },
    {
      "cell_type": "code",
      "source": [
        "sp.reindex(\n",
        "    bitcoin.index, method='ffill'\n",
        ").head(10).assign(\n",
        "    day_of_week=lambda x: x.index.day_name()\n",
        ")\n"
      ],
      "metadata": {
        "id": "93K8EOPF9MO4"
      },
      "execution_count": null,
      "outputs": []
    },
    {
      "cell_type": "code",
      "source": [
        "import numpy as np\n",
        "\n",
        "sp_reindexed = sp.reindex(\n",
        "    bitcoin.index\n",
        ").assign(\n",
        "    volume=lambda x: x.volume.fillna(0),\n",
        "    close=lambda x: x.close.fillna(method='ffill'),\n",
        "    open=lambda x: np.where(x.open.isnull(), x.close, x.open),\n",
        "    high=lambda x: np.where(x.high.isnull(), x.close, x.high),\n",
        "    low=lambda x: np.where(x.low.isnull(), x.close, x.low)\n",
        ")\n",
        "sp_reindexed.head(10).assign(\n",
        "    day_of_week=lambda x: x.index.day_name()\n",
        ")"
      ],
      "metadata": {
        "id": "MSzW9uU89SEx"
      },
      "execution_count": null,
      "outputs": []
    },
    {
      "cell_type": "code",
      "source": [
        "fixed_portfolio = pd.concat([sp_reindexed, bitcoin], sort=False).groupby(pd.Grouper(freq='D')).sum()\n",
        "\n",
        "ax = fixed_portfolio['2017-Q4':'2018-Q2'].plot(\n",
        "    y='close', label='reindexed portfolio of S&P 500 + Bitcoin', figsize=(15, 5), linewidth=2,\n",
        "    title='Reindexed portfolio vs. portfolio with mismatches indices'\n",
        ")\n",
        "\n",
        "portfolio['2017-Q4':'2018-Q2'].plot(\n",
        "    y='close', ax=ax, linestyle='--, label='portfolio of S&P 500 + Bitcoin w/o reindexing'\n",
        ").set_ylabel('price ($)') # add line for original portfolio for comparison and label y-axis\n",
        "\n",
        "plt.show() # show the plot"
      ],
      "metadata": {
        "id": "pK0X7NFk72yq"
      },
      "execution_count": null,
      "outputs": []
    }
  ]
}