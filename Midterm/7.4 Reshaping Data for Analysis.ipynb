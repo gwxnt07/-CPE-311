{
  "nbformat": 4,
  "nbformat_minor": 0,
  "metadata": {
    "colab": {
      "provenance": []
    },
    "kernelspec": {
      "name": "python3",
      "display_name": "Python 3"
    },
    "language_info": {
      "name": "python"
    }
  },
  "cells": [
    {
      "cell_type": "code",
      "source": [
        "import pandas as pd\n",
        "\n",
        "long_df = pd.read_csv(\n",
        "    'data/long_data.csv',\n",
        "    usecols=['date', 'datatype', 'value']\n",
        ").rename(\n",
        "    columns={\n",
        "        'value': 'temp_C'\n",
        "    }\n",
        ").assign(\n",
        "    date=lambda x: pd.to_datetime(x.date),\n",
        "    temp_F=lambda x: (x.temp_C * 9/5) + 32\n",
        ")\n",
        "long_df.head()"
      ],
      "metadata": {
        "id": "zEWP0vTs-Acw"
      },
      "execution_count": null,
      "outputs": []
    },
    {
      "cell_type": "code",
      "source": [
        "long_df.head().T"
      ],
      "metadata": {
        "id": "cksfos0Y-FPQ"
      },
      "execution_count": null,
      "outputs": []
    },
    {
      "cell_type": "code",
      "source": [
        "\n",
        "pivoted_df = long_df.pivot(\n",
        "    index='date', columns='datatype', values='temp_C'\n",
        ")\n",
        "pivoted_df.head()"
      ],
      "metadata": {
        "id": "FX5r4GY4-Gve"
      },
      "execution_count": null,
      "outputs": []
    },
    {
      "cell_type": "code",
      "source": [
        "pd.pivot(\n",
        "    index=long_df.date, columns=long_df.datatype, values=long_df.temp_C\n",
        ").head()"
      ],
      "metadata": {
        "id": "xn_EWr5u-Gx-"
      },
      "execution_count": null,
      "outputs": []
    },
    {
      "cell_type": "code",
      "source": [
        "pivoted_df.describe()"
      ],
      "metadata": {
        "id": "eAYT6p9h-G0U"
      },
      "execution_count": null,
      "outputs": []
    },
    {
      "cell_type": "code",
      "source": [
        "\n",
        "pivoted_df = long_df.pivot(\n",
        "    index='date', columns='datatype', values=['temp_C', 'temp_F']\n",
        ")\n",
        "pivoted_df.head()"
      ],
      "metadata": {
        "id": "l2Oty0SA-G2d"
      },
      "execution_count": null,
      "outputs": []
    },
    {
      "cell_type": "code",
      "source": [
        "pivoted_df['temp_F']['TMIN'].head()"
      ],
      "metadata": {
        "id": "8XUq72d4-N1y"
      },
      "execution_count": null,
      "outputs": []
    },
    {
      "cell_type": "code",
      "source": [
        "multi_index_df = long_df.set_index(['date', 'datatype'])\n",
        "multi_index_df.index"
      ],
      "metadata": {
        "id": "3FwchfwE-N4Z"
      },
      "execution_count": null,
      "outputs": []
    },
    {
      "cell_type": "code",
      "source": [
        "multi_index_df.head()"
      ],
      "metadata": {
        "id": "b6EYCzM_-WdC"
      },
      "execution_count": null,
      "outputs": []
    },
    {
      "cell_type": "code",
      "source": [
        "unstacked_df = multi_index_df.unstack()\n",
        "unstacked_df.head()"
      ],
      "metadata": {
        "id": "MHh_w7ch-Wm8"
      },
      "execution_count": null,
      "outputs": []
    },
    {
      "cell_type": "code",
      "source": [
        "extra_data = long_df.append(\n",
        "    [{'datatype': 'TAVG', 'date': '2018-10-01', 'temp_C': 10, 'temp_F': 50}]\n",
        ").set_index(['date', 'datatype']).sort_index()\n",
        "\n",
        "extra_data.head(8)"
      ],
      "metadata": {
        "id": "c6vjWsvG-N6p"
      },
      "execution_count": null,
      "outputs": []
    },
    {
      "cell_type": "code",
      "source": [
        "extra_data.unstack().head()"
      ],
      "metadata": {
        "id": "Kz2C6HDE-duD"
      },
      "execution_count": null,
      "outputs": []
    },
    {
      "cell_type": "code",
      "source": [
        "\n",
        "extra_data.unstack(fill_value=-40).head()"
      ],
      "metadata": {
        "id": "glbjrDfO-dwj"
      },
      "execution_count": null,
      "outputs": []
    },
    {
      "cell_type": "code",
      "source": [
        "wide_df = pd.read_csv('data/wide_data.csv')\n",
        "wide_df.head()"
      ],
      "metadata": {
        "id": "aXXUpUoC-oA4"
      },
      "execution_count": null,
      "outputs": []
    },
    {
      "cell_type": "code",
      "source": [
        "melted_df = wide_df.melt(\n",
        "    id_vars='date',\n",
        "    value_vars=['TMAX', 'TMIN', 'TOBS'],\n",
        "    value_name='temp_C',\n",
        "    var_name='measurement'\n",
        ")\n",
        "melted_df.head()"
      ],
      "metadata": {
        "id": "WeaEVIp1-oKA"
      },
      "execution_count": null,
      "outputs": []
    },
    {
      "cell_type": "code",
      "source": [
        "pd.melt(\n",
        "    wide_df,\n",
        "    id_vars='date',\n",
        "    value_vars=['TMAX', 'TMIN', 'TOBS'],\n",
        "    value_name='temp_C',\n",
        "    var_name='measurement'\n",
        ").head()"
      ],
      "metadata": {
        "id": "w2JzhTdq-oMl"
      },
      "execution_count": null,
      "outputs": []
    },
    {
      "cell_type": "code",
      "source": [
        "\n",
        "wide_df.set_index('date', inplace=True)\n",
        "wide_df.head()"
      ],
      "metadata": {
        "id": "zdRnzVrx-uXB"
      },
      "execution_count": null,
      "outputs": []
    },
    {
      "cell_type": "code",
      "source": [
        "stacked_series = wide_df.stack()\n",
        "stacked_series.head()\n"
      ],
      "metadata": {
        "id": "2tgCUYbl-uZm"
      },
      "execution_count": null,
      "outputs": []
    },
    {
      "cell_type": "code",
      "source": [
        "stacked_df = stacked_series.to_frame('values')\n",
        "stacked_df.head()"
      ],
      "metadata": {
        "id": "zTjKPKsI-1cq"
      },
      "execution_count": null,
      "outputs": []
    },
    {
      "cell_type": "code",
      "source": [
        "stacked_df.index"
      ],
      "metadata": {
        "id": "8mME94qH-1fD"
      },
      "execution_count": null,
      "outputs": []
    },
    {
      "cell_type": "code",
      "source": [
        "stacked_df.index.rename(['date', 'datatype'], inplace=True)\n",
        "stacked_df.index.names\n"
      ],
      "metadata": {
        "id": "XGqjytPC-6zM"
      },
      "execution_count": null,
      "outputs": []
    }
  ]
}