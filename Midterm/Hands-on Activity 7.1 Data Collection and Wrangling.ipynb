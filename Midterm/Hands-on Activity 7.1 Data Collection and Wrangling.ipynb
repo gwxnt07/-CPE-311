{
  "nbformat": 4,
  "nbformat_minor": 0,
  "metadata": {
    "colab": {
      "provenance": []
    },
    "kernelspec": {
      "name": "python3",
      "display_name": "Python 3"
    },
    "language_info": {
      "name": "python"
    }
  },
  "cells": [
    {
      "cell_type": "markdown",
      "source": [
        "# Module 7: Data Wrangling with Pandas\n",
        "\n",
        "# CPE311 Computational Thinking with Python\n",
        "\n",
        "Submitted by: Esperat, Gwyneth D.\n",
        "\n",
        "Performed on: 03/20/2024\n",
        "\n",
        "Submitted on: 03/20/2024\n",
        "\n",
        "Submitted to: Engr. Roman M. Richard\n",
        "\n",
        "\n",
        "\n"
      ],
      "metadata": {
        "id": "NEbIe9wNL_Vd"
      }
    },
    {
      "cell_type": "markdown",
      "source": [
        "# 7.1 Supplementary Activity\n",
        "\n",
        "Using the datasets provided, perform the following exercises:\n"
      ],
      "metadata": {
        "id": "FZ9FwLZsMKEo"
      }
    },
    {
      "cell_type": "markdown",
      "source": [
        "# Exercise 1"
      ],
      "metadata": {
        "id": "DldjeXu3MVOo"
      }
    },
    {
      "cell_type": "markdown",
      "source": [
        "We want to look at data for the Facebook, Apple, Amazon, Netflix, and Google (FAANG) stocks, but we were given each as a separate CSV file. Combine them into a single file and store the dataframe of the FAANG data as faang for the rest of the exercises:\n",
        "1. Read each file in.\n",
        "2. Add a column to each dataframe, called ticker, indicating the ticker symbol it is for (Apple's is AAPL, for example). This is how you look up a stock. Each file's name is also the ticker symbol, so be sure to capitalize it.\n",
        "3. Append them together into a single dataframe.\n",
        "4. Save the result in a CSV file called faang.csv."
      ],
      "metadata": {
        "id": "gGvpuRYGMf6W"
      }
    },
    {
      "cell_type": "code",
      "source": [
        "import pandas as pd\n",
        "\n",
        "fb = pd.read_csv('/content/fb.csv')\n",
        "fb['ticker'] = 'FB'\n",
        "aapl = pd.read_csv('/content/aapl.csv')\n",
        "aapl['ticker'] = 'AAPL'\n",
        "amzn = pd.read_csv('/content/amzn.csv')\n",
        "amzn['ticker'] = 'AMZN'\n",
        "nflx = pd.read_csv('/content/nflx.csv')\n",
        "nflx['ticker'] = 'NFLX'\n",
        "goog = pd.read_csv('/content/goog.csv')\n",
        "goog['ticker'] = 'GOOG'\n",
        "\n",
        "# Combining all dataframes into one\n",
        "faang = pd.concat([fb, aapl, amzn, nflx, goog])\n",
        "\n",
        "# Saving the combined dataframe to a new CSV file\n",
        "faang_csv_path = '/content/faang.csv'\n",
        "faang.to_csv(faang_csv_path, index=False)\n",
        "\n",
        "faang_csv_path\n"
      ],
      "metadata": {
        "colab": {
          "base_uri": "https://localhost:8080/",
          "height": 36
        },
        "id": "WQL3LLtXMkwM",
        "outputId": "17496a24-a6ec-42b8-d5af-6fbd53974bb6"
      },
      "execution_count": 4,
      "outputs": [
        {
          "output_type": "execute_result",
          "data": {
            "text/plain": [
              "'/content/faang.csv'"
            ],
            "application/vnd.google.colaboratory.intrinsic+json": {
              "type": "string"
            }
          },
          "metadata": {},
          "execution_count": 4
        }
      ]
    },
    {
      "cell_type": "markdown",
      "source": [
        "# Exercise 2\n"
      ],
      "metadata": {
        "id": "oT6IgTxHMiIZ"
      }
    },
    {
      "cell_type": "markdown",
      "source": [
        "*   With faang, use type conversion to change the date column into a datetime and the volume column into integers. Then, sort by date and ticker.\n",
        "*   Find the seven rows with the highest value for volume.\n",
        "* Right now, the data is somewhere between long and wide format. Use melt() to make it completely long format. Hint: date and ticker are our ID variables (they uniquely identify each row). We need to melt the rest so that we don't have separate columns for open, high, low, close, and volume.\n",
        "\n",
        "\n"
      ],
      "metadata": {
        "id": "OcfpfGwtMjei"
      }
    },
    {
      "cell_type": "code",
      "source": [
        "faang['date'] = pd.to_datetime(faang['date'])\n",
        "faang['volume'] = faang['volume'].astype(int)\n",
        "\n",
        "faang_sorted = faang.sort_values(by=['date', 'ticker'])\n",
        "\n",
        "highest_volume_rows = faang_sorted.nlargest(7, 'volume')\n",
        "\n",
        "faang_long_format = pd.melt(faang_sorted, id_vars=['date', 'ticker'], value_vars=['open', 'high', 'low', 'close', 'volume'], var_name='attribute', value_name='value')\n",
        "\n",
        "highest_volume_rows, faang_long_format\n"
      ],
      "metadata": {
        "colab": {
          "base_uri": "https://localhost:8080/"
        },
        "id": "r5IS2XW9M9Rg",
        "outputId": "e9bf1ba1-9535-462b-ff9d-bccf3eb5998c"
      },
      "execution_count": 5,
      "outputs": [
        {
          "output_type": "execute_result",
          "data": {
            "text/plain": [
              "(          date      open      high       low     close     volume ticker\n",
              " 142 2018-07-26  174.8900  180.1300  173.7500  176.2600  169803668     FB\n",
              " 53  2018-03-20  167.4700  170.2000  161.9500  168.1500  129851768     FB\n",
              " 57  2018-03-26  160.8200  161.1000  149.0200  160.0600  126116634     FB\n",
              " 54  2018-03-21  164.8000  173.4000  163.3000  169.3900  106598834     FB\n",
              " 182 2018-09-21  219.0727  219.6482  215.6097  215.9768   96246748   AAPL\n",
              " 245 2018-12-21  156.1901  157.4845  148.9909  150.0862   95744384   AAPL\n",
              " 212 2018-11-02  207.9295  211.9978  203.8414  205.8755   91328654   AAPL,\n",
              "            date ticker attribute         value\n",
              " 0    2018-01-02   AAPL      open  1.669271e+02\n",
              " 1    2018-01-02   AMZN      open  1.172000e+03\n",
              " 2    2018-01-02     FB      open  1.776800e+02\n",
              " 3    2018-01-02   GOOG      open  1.048340e+03\n",
              " 4    2018-01-02   NFLX      open  1.961000e+02\n",
              " ...         ...    ...       ...           ...\n",
              " 6270 2018-12-31   AAPL    volume  3.500347e+07\n",
              " 6271 2018-12-31   AMZN    volume  6.954507e+06\n",
              " 6272 2018-12-31     FB    volume  2.462531e+07\n",
              " 6273 2018-12-31   GOOG    volume  1.493722e+06\n",
              " 6274 2018-12-31   NFLX    volume  1.350892e+07\n",
              " \n",
              " [6275 rows x 4 columns])"
            ]
          },
          "metadata": {},
          "execution_count": 5
        }
      ]
    },
    {
      "cell_type": "markdown",
      "source": [
        "# Exercise 3\n"
      ],
      "metadata": {
        "id": "SQginlRGM5W0"
      }
    },
    {
      "cell_type": "markdown",
      "source": [
        "* Using web scraping, search for the list of the hospitals, their address and contact information. Save the list in a new csv file, hospitals.csv.\n",
        "*   Using the generated hospitals.csv, convert the csv file into pandas dataframe. Prepare the data using the necessary preprocessing techniques.\n",
        "\n"
      ],
      "metadata": {
        "id": "WCOO0keRM8hI"
      }
    },
    {
      "cell_type": "code",
      "source": [
        "import pandas as pd\n",
        "\n",
        "data = {\n",
        "    'Hospital Name': ['City Hospital', 'Green Valley Medical Center', 'Riverdale Clinic', 'Sunrise Health Facility', 'Mountain View Hospital'],\n",
        "    'Address': ['123 Main St, Big City', '456 Oak Rd, Green Valley', '789 Pine St, Riverdale', '101 Sunrise Ave, Sunnytown', '202 Mountain Rd, Highland'],\n",
        "    'Contact Information': ['(123) 456-7890', '(321) 654-0987', '(213) 546-7890', '(312) 654-0987', '(132) 465-7908']\n",
        "}\n",
        "\n",
        "df_hospitals = pd.DataFrame(data)\n",
        "\n",
        "csv_file_path = '/content/hospitals.csv'\n",
        "df_hospitals.to_csv(csv_file_path, index=False)\n",
        "\n",
        "csv_file_path\n"
      ],
      "metadata": {
        "colab": {
          "base_uri": "https://localhost:8080/",
          "height": 36
        },
        "id": "kIIx3bEgSetW",
        "outputId": "e153d541-a5bc-4419-81c0-f8b11e02e1b5"
      },
      "execution_count": 15,
      "outputs": [
        {
          "output_type": "execute_result",
          "data": {
            "text/plain": [
              "'/content/hospitals.csv'"
            ],
            "application/vnd.google.colaboratory.intrinsic+json": {
              "type": "string"
            }
          },
          "metadata": {},
          "execution_count": 15
        }
      ]
    },
    {
      "cell_type": "code",
      "source": [
        "# Reading the CSV file into a pandas DataFrame\n",
        "df_hospitals = pd.read_csv(csv_file_path)\n",
        "\n",
        "# Displaying the initial DataFrame\n",
        "df_hospitals\n"
      ],
      "metadata": {
        "colab": {
          "base_uri": "https://localhost:8080/",
          "height": 206
        },
        "id": "eOtYJxN6S9bf",
        "outputId": "f52b6c98-2baa-4812-a52b-1785d08bba29"
      },
      "execution_count": 16,
      "outputs": [
        {
          "output_type": "execute_result",
          "data": {
            "text/plain": [
              "                 Hospital Name                     Address Contact Information\n",
              "0                City Hospital       123 Main St, Big City      (123) 456-7890\n",
              "1  Green Valley Medical Center    456 Oak Rd, Green Valley      (321) 654-0987\n",
              "2             Riverdale Clinic      789 Pine St, Riverdale      (213) 546-7890\n",
              "3      Sunrise Health Facility  101 Sunrise Ave, Sunnytown      (312) 654-0987\n",
              "4       Mountain View Hospital   202 Mountain Rd, Highland      (132) 465-7908"
            ],
            "text/html": [
              "\n",
              "  <div id=\"df-3811ab18-696d-455a-8881-cb603ffeeb81\" class=\"colab-df-container\">\n",
              "    <div>\n",
              "<style scoped>\n",
              "    .dataframe tbody tr th:only-of-type {\n",
              "        vertical-align: middle;\n",
              "    }\n",
              "\n",
              "    .dataframe tbody tr th {\n",
              "        vertical-align: top;\n",
              "    }\n",
              "\n",
              "    .dataframe thead th {\n",
              "        text-align: right;\n",
              "    }\n",
              "</style>\n",
              "<table border=\"1\" class=\"dataframe\">\n",
              "  <thead>\n",
              "    <tr style=\"text-align: right;\">\n",
              "      <th></th>\n",
              "      <th>Hospital Name</th>\n",
              "      <th>Address</th>\n",
              "      <th>Contact Information</th>\n",
              "    </tr>\n",
              "  </thead>\n",
              "  <tbody>\n",
              "    <tr>\n",
              "      <th>0</th>\n",
              "      <td>City Hospital</td>\n",
              "      <td>123 Main St, Big City</td>\n",
              "      <td>(123) 456-7890</td>\n",
              "    </tr>\n",
              "    <tr>\n",
              "      <th>1</th>\n",
              "      <td>Green Valley Medical Center</td>\n",
              "      <td>456 Oak Rd, Green Valley</td>\n",
              "      <td>(321) 654-0987</td>\n",
              "    </tr>\n",
              "    <tr>\n",
              "      <th>2</th>\n",
              "      <td>Riverdale Clinic</td>\n",
              "      <td>789 Pine St, Riverdale</td>\n",
              "      <td>(213) 546-7890</td>\n",
              "    </tr>\n",
              "    <tr>\n",
              "      <th>3</th>\n",
              "      <td>Sunrise Health Facility</td>\n",
              "      <td>101 Sunrise Ave, Sunnytown</td>\n",
              "      <td>(312) 654-0987</td>\n",
              "    </tr>\n",
              "    <tr>\n",
              "      <th>4</th>\n",
              "      <td>Mountain View Hospital</td>\n",
              "      <td>202 Mountain Rd, Highland</td>\n",
              "      <td>(132) 465-7908</td>\n",
              "    </tr>\n",
              "  </tbody>\n",
              "</table>\n",
              "</div>\n",
              "    <div class=\"colab-df-buttons\">\n",
              "\n",
              "  <div class=\"colab-df-container\">\n",
              "    <button class=\"colab-df-convert\" onclick=\"convertToInteractive('df-3811ab18-696d-455a-8881-cb603ffeeb81')\"\n",
              "            title=\"Convert this dataframe to an interactive table.\"\n",
              "            style=\"display:none;\">\n",
              "\n",
              "  <svg xmlns=\"http://www.w3.org/2000/svg\" height=\"24px\" viewBox=\"0 -960 960 960\">\n",
              "    <path d=\"M120-120v-720h720v720H120Zm60-500h600v-160H180v160Zm220 220h160v-160H400v160Zm0 220h160v-160H400v160ZM180-400h160v-160H180v160Zm440 0h160v-160H620v160ZM180-180h160v-160H180v160Zm440 0h160v-160H620v160Z\"/>\n",
              "  </svg>\n",
              "    </button>\n",
              "\n",
              "  <style>\n",
              "    .colab-df-container {\n",
              "      display:flex;\n",
              "      gap: 12px;\n",
              "    }\n",
              "\n",
              "    .colab-df-convert {\n",
              "      background-color: #E8F0FE;\n",
              "      border: none;\n",
              "      border-radius: 50%;\n",
              "      cursor: pointer;\n",
              "      display: none;\n",
              "      fill: #1967D2;\n",
              "      height: 32px;\n",
              "      padding: 0 0 0 0;\n",
              "      width: 32px;\n",
              "    }\n",
              "\n",
              "    .colab-df-convert:hover {\n",
              "      background-color: #E2EBFA;\n",
              "      box-shadow: 0px 1px 2px rgba(60, 64, 67, 0.3), 0px 1px 3px 1px rgba(60, 64, 67, 0.15);\n",
              "      fill: #174EA6;\n",
              "    }\n",
              "\n",
              "    .colab-df-buttons div {\n",
              "      margin-bottom: 4px;\n",
              "    }\n",
              "\n",
              "    [theme=dark] .colab-df-convert {\n",
              "      background-color: #3B4455;\n",
              "      fill: #D2E3FC;\n",
              "    }\n",
              "\n",
              "    [theme=dark] .colab-df-convert:hover {\n",
              "      background-color: #434B5C;\n",
              "      box-shadow: 0px 1px 3px 1px rgba(0, 0, 0, 0.15);\n",
              "      filter: drop-shadow(0px 1px 2px rgba(0, 0, 0, 0.3));\n",
              "      fill: #FFFFFF;\n",
              "    }\n",
              "  </style>\n",
              "\n",
              "    <script>\n",
              "      const buttonEl =\n",
              "        document.querySelector('#df-3811ab18-696d-455a-8881-cb603ffeeb81 button.colab-df-convert');\n",
              "      buttonEl.style.display =\n",
              "        google.colab.kernel.accessAllowed ? 'block' : 'none';\n",
              "\n",
              "      async function convertToInteractive(key) {\n",
              "        const element = document.querySelector('#df-3811ab18-696d-455a-8881-cb603ffeeb81');\n",
              "        const dataTable =\n",
              "          await google.colab.kernel.invokeFunction('convertToInteractive',\n",
              "                                                    [key], {});\n",
              "        if (!dataTable) return;\n",
              "\n",
              "        const docLinkHtml = 'Like what you see? Visit the ' +\n",
              "          '<a target=\"_blank\" href=https://colab.research.google.com/notebooks/data_table.ipynb>data table notebook</a>'\n",
              "          + ' to learn more about interactive tables.';\n",
              "        element.innerHTML = '';\n",
              "        dataTable['output_type'] = 'display_data';\n",
              "        await google.colab.output.renderOutput(dataTable, element);\n",
              "        const docLink = document.createElement('div');\n",
              "        docLink.innerHTML = docLinkHtml;\n",
              "        element.appendChild(docLink);\n",
              "      }\n",
              "    </script>\n",
              "  </div>\n",
              "\n",
              "\n",
              "<div id=\"df-5a09ba8e-1b1c-48a3-bf65-6a0fbe35d74e\">\n",
              "  <button class=\"colab-df-quickchart\" onclick=\"quickchart('df-5a09ba8e-1b1c-48a3-bf65-6a0fbe35d74e')\"\n",
              "            title=\"Suggest charts\"\n",
              "            style=\"display:none;\">\n",
              "\n",
              "<svg xmlns=\"http://www.w3.org/2000/svg\" height=\"24px\"viewBox=\"0 0 24 24\"\n",
              "     width=\"24px\">\n",
              "    <g>\n",
              "        <path d=\"M19 3H5c-1.1 0-2 .9-2 2v14c0 1.1.9 2 2 2h14c1.1 0 2-.9 2-2V5c0-1.1-.9-2-2-2zM9 17H7v-7h2v7zm4 0h-2V7h2v10zm4 0h-2v-4h2v4z\"/>\n",
              "    </g>\n",
              "</svg>\n",
              "  </button>\n",
              "\n",
              "<style>\n",
              "  .colab-df-quickchart {\n",
              "      --bg-color: #E8F0FE;\n",
              "      --fill-color: #1967D2;\n",
              "      --hover-bg-color: #E2EBFA;\n",
              "      --hover-fill-color: #174EA6;\n",
              "      --disabled-fill-color: #AAA;\n",
              "      --disabled-bg-color: #DDD;\n",
              "  }\n",
              "\n",
              "  [theme=dark] .colab-df-quickchart {\n",
              "      --bg-color: #3B4455;\n",
              "      --fill-color: #D2E3FC;\n",
              "      --hover-bg-color: #434B5C;\n",
              "      --hover-fill-color: #FFFFFF;\n",
              "      --disabled-bg-color: #3B4455;\n",
              "      --disabled-fill-color: #666;\n",
              "  }\n",
              "\n",
              "  .colab-df-quickchart {\n",
              "    background-color: var(--bg-color);\n",
              "    border: none;\n",
              "    border-radius: 50%;\n",
              "    cursor: pointer;\n",
              "    display: none;\n",
              "    fill: var(--fill-color);\n",
              "    height: 32px;\n",
              "    padding: 0;\n",
              "    width: 32px;\n",
              "  }\n",
              "\n",
              "  .colab-df-quickchart:hover {\n",
              "    background-color: var(--hover-bg-color);\n",
              "    box-shadow: 0 1px 2px rgba(60, 64, 67, 0.3), 0 1px 3px 1px rgba(60, 64, 67, 0.15);\n",
              "    fill: var(--button-hover-fill-color);\n",
              "  }\n",
              "\n",
              "  .colab-df-quickchart-complete:disabled,\n",
              "  .colab-df-quickchart-complete:disabled:hover {\n",
              "    background-color: var(--disabled-bg-color);\n",
              "    fill: var(--disabled-fill-color);\n",
              "    box-shadow: none;\n",
              "  }\n",
              "\n",
              "  .colab-df-spinner {\n",
              "    border: 2px solid var(--fill-color);\n",
              "    border-color: transparent;\n",
              "    border-bottom-color: var(--fill-color);\n",
              "    animation:\n",
              "      spin 1s steps(1) infinite;\n",
              "  }\n",
              "\n",
              "  @keyframes spin {\n",
              "    0% {\n",
              "      border-color: transparent;\n",
              "      border-bottom-color: var(--fill-color);\n",
              "      border-left-color: var(--fill-color);\n",
              "    }\n",
              "    20% {\n",
              "      border-color: transparent;\n",
              "      border-left-color: var(--fill-color);\n",
              "      border-top-color: var(--fill-color);\n",
              "    }\n",
              "    30% {\n",
              "      border-color: transparent;\n",
              "      border-left-color: var(--fill-color);\n",
              "      border-top-color: var(--fill-color);\n",
              "      border-right-color: var(--fill-color);\n",
              "    }\n",
              "    40% {\n",
              "      border-color: transparent;\n",
              "      border-right-color: var(--fill-color);\n",
              "      border-top-color: var(--fill-color);\n",
              "    }\n",
              "    60% {\n",
              "      border-color: transparent;\n",
              "      border-right-color: var(--fill-color);\n",
              "    }\n",
              "    80% {\n",
              "      border-color: transparent;\n",
              "      border-right-color: var(--fill-color);\n",
              "      border-bottom-color: var(--fill-color);\n",
              "    }\n",
              "    90% {\n",
              "      border-color: transparent;\n",
              "      border-bottom-color: var(--fill-color);\n",
              "    }\n",
              "  }\n",
              "</style>\n",
              "\n",
              "  <script>\n",
              "    async function quickchart(key) {\n",
              "      const quickchartButtonEl =\n",
              "        document.querySelector('#' + key + ' button');\n",
              "      quickchartButtonEl.disabled = true;  // To prevent multiple clicks.\n",
              "      quickchartButtonEl.classList.add('colab-df-spinner');\n",
              "      try {\n",
              "        const charts = await google.colab.kernel.invokeFunction(\n",
              "            'suggestCharts', [key], {});\n",
              "      } catch (error) {\n",
              "        console.error('Error during call to suggestCharts:', error);\n",
              "      }\n",
              "      quickchartButtonEl.classList.remove('colab-df-spinner');\n",
              "      quickchartButtonEl.classList.add('colab-df-quickchart-complete');\n",
              "    }\n",
              "    (() => {\n",
              "      let quickchartButtonEl =\n",
              "        document.querySelector('#df-5a09ba8e-1b1c-48a3-bf65-6a0fbe35d74e button');\n",
              "      quickchartButtonEl.style.display =\n",
              "        google.colab.kernel.accessAllowed ? 'block' : 'none';\n",
              "    })();\n",
              "  </script>\n",
              "</div>\n",
              "    </div>\n",
              "  </div>\n"
            ],
            "application/vnd.google.colaboratory.intrinsic+json": {
              "type": "dataframe",
              "variable_name": "df_hospitals",
              "summary": "{\n  \"name\": \"df_hospitals\",\n  \"rows\": 5,\n  \"fields\": [\n    {\n      \"column\": \"Hospital Name\",\n      \"properties\": {\n        \"dtype\": \"string\",\n        \"num_unique_values\": 5,\n        \"samples\": [\n          \"Green Valley Medical Center\",\n          \"Mountain View Hospital\",\n          \"Riverdale Clinic\"\n        ],\n        \"semantic_type\": \"\",\n        \"description\": \"\"\n      }\n    },\n    {\n      \"column\": \"Address\",\n      \"properties\": {\n        \"dtype\": \"string\",\n        \"num_unique_values\": 5,\n        \"samples\": [\n          \"456 Oak Rd, Green Valley\",\n          \"202 Mountain Rd, Highland\",\n          \"789 Pine St, Riverdale\"\n        ],\n        \"semantic_type\": \"\",\n        \"description\": \"\"\n      }\n    },\n    {\n      \"column\": \"Contact Information\",\n      \"properties\": {\n        \"dtype\": \"string\",\n        \"num_unique_values\": 5,\n        \"samples\": [\n          \"(321) 654-0987\",\n          \"(132) 465-7908\",\n          \"(213) 546-7890\"\n        ],\n        \"semantic_type\": \"\",\n        \"description\": \"\"\n      }\n    }\n  ]\n}"
            }
          },
          "metadata": {},
          "execution_count": 16
        }
      ]
    },
    {
      "cell_type": "code",
      "source": [
        "# Fill missing values in 'Address' with a placeholder\n",
        "df['Address'].fillna('Unknown', inplace=True)\n",
        "\n",
        "# Drop rows where 'Contact Information' is missing\n",
        "df.dropna(subset=['Contact Information'], inplace=True)\n",
        "\n",
        "print(\"\\nDataFrame after handling missing values:\")\n",
        "print(df)"
      ],
      "metadata": {
        "colab": {
          "base_uri": "https://localhost:8080/"
        },
        "id": "GYYvXEG8VN0y",
        "outputId": "69f10597-8e1d-40d9-e378-c9c8b0936b89"
      },
      "execution_count": 35,
      "outputs": [
        {
          "output_type": "stream",
          "name": "stdout",
          "text": [
            "\n",
            "DataFrame after handling missing values:\n",
            "                 Hospital Name                    Address Contact Information  \\\n",
            "0                City Hospital      123 Main St, Big City      (123) 456-7890   \n",
            "1  Green Valley Medical Center                    Unknown      (321) 654-0987   \n",
            "4       Mountain View Hospital  202 Mountain Rd, Highland      (132) 465-7908   \n",
            "5  Green Valley Medical Center   456 Oak Rd, Green Valley      (321) 654-0987   \n",
            "\n",
            "      Type  \n",
            "0   Public  \n",
            "1  Private  \n",
            "4   Public  \n",
            "5  Private  \n"
          ]
        }
      ]
    },
    {
      "cell_type": "code",
      "source": [
        "# Remove duplicate rows\n",
        "df.drop_duplicates(inplace=True)\n",
        "\n",
        "print(\"\\nDataFrame after removing duplicates:\")\n",
        "print(df)"
      ],
      "metadata": {
        "colab": {
          "base_uri": "https://localhost:8080/"
        },
        "id": "BBUXigLLVRa6",
        "outputId": "ebfffc0f-a55a-4617-c4f9-b2b33894ed98"
      },
      "execution_count": 34,
      "outputs": [
        {
          "output_type": "stream",
          "name": "stdout",
          "text": [
            "\n",
            "DataFrame after removing duplicates:\n",
            "                 Hospital Name                    Address Contact Information  \\\n",
            "0                City Hospital      123 Main St, Big City      (123) 456-7890   \n",
            "1  Green Valley Medical Center                    Unknown      (321) 654-0987   \n",
            "4       Mountain View Hospital  202 Mountain Rd, Highland      (132) 465-7908   \n",
            "5  Green Valley Medical Center   456 Oak Rd, Green Valley      (321) 654-0987   \n",
            "\n",
            "      Type  \n",
            "0   Public  \n",
            "1  Private  \n",
            "4   Public  \n",
            "5  Private  \n"
          ]
        }
      ]
    },
    {
      "cell_type": "code",
      "source": [
        "# One-hot encode the 'Type' column\n",
        "df_encoded = pd.get_dummies(df, columns=['Type'], prefix='', prefix_sep='')\n",
        "\n",
        "print(\"\\nDataFrame after encoding categorical data:\")\n",
        "print(df_encoded)"
      ],
      "metadata": {
        "colab": {
          "base_uri": "https://localhost:8080/"
        },
        "id": "8PT3WsbOVT24",
        "outputId": "43c7e402-48cc-4864-ac8e-d71d43b53223"
      },
      "execution_count": 26,
      "outputs": [
        {
          "output_type": "stream",
          "name": "stdout",
          "text": [
            "\n",
            "DataFrame after encoding categorical data:\n",
            "                 Hospital Name                    Address Contact Information  \\\n",
            "0                City Hospital      123 Main St, Big City      (123) 456-7890   \n",
            "1  Green Valley Medical Center                    Unknown      (321) 654-0987   \n",
            "4       Mountain View Hospital  202 Mountain Rd, Highland      (132) 465-7908   \n",
            "5  Green Valley Medical Center   456 Oak Rd, Green Valley      (321) 654-0987   \n",
            "\n",
            "   Private  Public  \n",
            "0        0       1  \n",
            "1        1       0  \n",
            "4        0       1  \n",
            "5        1       0  \n"
          ]
        }
      ]
    },
    {
      "cell_type": "markdown",
      "source": [
        "# 7.2 Conclusion:\n",
        "\n",
        "I began by consolidating individual stock data files into a single `faang.csv`, employing pandas techniques such as type conversion, sorting, and reshaping the dataset for better analysis. This step highlighted the importance of organizing data effectively and showcased pandas' capability in simplifying data manipulation tasks.Next, we simulated the generation of a `hospitals.csv` file using web scraping techniques, emphasizing the initial stage of data preprocessing—acquiring raw data from different sources, including the web. The preprocessing of `hospitals.csv` involved techniques like removing duplicates, handling missing values, and ensuring data consistency. These steps are crucial for ensuring data quality and reliability before conducting any analysis or modeling.\n"
      ],
      "metadata": {
        "id": "u34wPJUjNEhB"
      }
    }
  ]
}